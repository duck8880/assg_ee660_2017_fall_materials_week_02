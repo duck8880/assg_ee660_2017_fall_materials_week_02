{
 "cells": [
  {
   "cell_type": "markdown",
   "metadata": {},
   "source": [
    "# EE660: Computer Architecture (Fall, 2017)\n",
    "## Assignment 1 (Due: September 10)"
   ]
  },
  {
   "cell_type": "markdown",
   "metadata": {
    "collapsed": true
   },
   "source": [
    "(20pt) <cite data-cite=\"3453296/HNM2HL9R\"></cite>, page 65, problem 1.9-a,b."
   ]
  },
  {
   "cell_type": "markdown",
   "metadata": {},
   "source": [
    "Solution:a. we can save half of the energy because the executing time is a half.\n",
    "b. we can save 3/4 of the energy as energy = Capacitive load * (Voltage)^2"
   ]
  },
  {
   "cell_type": "markdown",
   "metadata": {},
   "source": [
    "(40pt) <cite data-cite=\"3453296/HNM2HL9R\"></cite>, page C-82, problem C.1-a,b,c,d,e,f,g."
   ]
  },
  {
   "cell_type": "markdown",
   "metadata": {},
   "source": [
    "Solution:"
   ]
  },
  {
   "cell_type": "markdown",
   "metadata": {},
   "source": [
    "(40pt) <cite data-cite=\"3453296/HNM2HL9R\"></cite>, page C-85, problem C.6-a,b,c,d,e."
   ]
  },
  {
   "cell_type": "markdown",
   "metadata": {},
   "source": [
    "Solution:"
   ]
  },
  {
   "cell_type": "markdown",
   "metadata": {},
   "source": [
    "<div class=\"cite2c-biblio\"></div>"
   ]
  }
 ],
 "metadata": {
  "cite2c": {
   "citations": {
    "3453296/HNM2HL9R": {
     "ISBN": "978-0-12-383872-8",
     "URL": "http://booksite.elsevier.com/9780123838728",
     "author": [
      {
       "family": "Patterson",
       "given": "David A."
      },
      {
       "family": "Hennessy",
       "given": "John L."
      }
     ],
     "edition": "5",
     "id": "3453296/HNM2HL9R",
     "issued": {
      "year": "2011"
     },
     "publisher": "Morgan Kaufmann Publishers Inc.",
     "title": "Computer Architecture: A Quantitative Approach",
     "type": "book"
    }
   }
  },
  "kernelspec": {
   "display_name": "Python 2",
   "language": "python",
   "name": "python2"
  },
  "language_info": {
   "codemirror_mode": {
    "name": "ipython",
    "version": 2
   },
   "file_extension": ".py",
   "mimetype": "text/x-python",
   "name": "python",
   "nbconvert_exporter": "python",
   "pygments_lexer": "ipython2",
   "version": "2.7.13"
  }
 },
 "nbformat": 4,
 "nbformat_minor": 2
}
