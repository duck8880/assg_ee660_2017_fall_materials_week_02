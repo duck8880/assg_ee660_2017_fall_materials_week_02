{
 "cells": [
  {
   "cell_type": "markdown",
   "metadata": {},
   "source": [
    "# EE660: Computer Architecture (Fall, 2017)\n",
    "## Assignment 1 (Due: September 10)"
   ]
  },
  {
   "cell_type": "markdown",
   "metadata": {
    "collapsed": true
   },
   "source": [
    "(20pt) <cite data-cite=\"3453296/HNM2HL9R\"></cite>, page 65, problem 1.9-a,b."
   ]
  },
  {
   "cell_type": "markdown",
   "metadata": {},
   "source": [
    "Solution:  \n",
    "a. we can save half of the energy because the executing time is a half.  \n",
    "b. we can save 3/4 of the energy as energy = Capacitive load * (Voltage)^2"
   ]
  },
  {
   "cell_type": "markdown",
   "metadata": {},
   "source": [
    "(40pt) <cite data-cite=\"3453296/HNM2HL9R\"></cite>, page C-82, problem C.1-a,b,c,d,e,f,g."
   ]
  },
  {
   "cell_type": "markdown",
   "metadata": {},
   "source": [
    "Solution:\n",
    "a. \n",
    "R1 from LD to DADDI  \n",
    "R1 from DADDI to SD  \n",
    "R2 from LD to DADD  \n",
    "R2 from SD to DDADD  \n",
    "R2 from DADDI to DSUB  \n",
    "R2 from DSUB to BENZ\n",
    "\n",
    "b.  \n",
    "         1  2  3  4  5  6  7  8  9  10 11 12 13 14 15 16 17 18 19  \n",
    "LD        F  D  X  M  W  \n",
    "DADDI        F  s  s  D  X  M  W  \n",
    "SD                F  s  s  D  X  M  W  \n",
    "DADDI                    F  D  X  M  W  \n",
    "DSUB'                      F  s  s  D  X  M  W  \n",
    "BNEZ'                            F  s  s  D  X  M  W \n",
    " \n",
    "LD                                          F  D \n",
    " \n",
    "#cycles = 17 * 99 = 1683\n",
    "\n",
    "\n",
    "c.  \n",
    "         1  2  3  4  5  6  7  8  9  10 11 12 13 14 15 16 17 18 19        \n",
    "LD        F  D  X  M  W  \n",
    "DADDI        F  D  s  X  M  W  \n",
    "SD            F  s  D  X  M  W  \n",
    "DADDI              F  D  X  M  W  \n",
    "DSUB'                F  D  X  M  W   \n",
    "BNEZ'                  F  D  X  M  W  \n",
    "next1                    F  D  X  M  \n",
    "next2                      F  D  X  \n",
    "  \n",
    "LD                          F  D  \n",
    " \n",
    "#cycles = 9 * 98 + 7 = 889 \n",
    "\n",
    "d. \n",
    "         1  2  3  4  5  6  7  8  9  10 11 12 13 14 15 16 17 18 19   \n",
    "LD        F  D  X  M  W  \n",
    "DADDI        F  D  s  X  M  W  \n",
    "SD            F  s  D  X  M  W  \n",
    "DADDI              F  D  X  M  W  \n",
    "DSUB'                F  D  X  M  W   \n",
    "BNEZ'                  F  D  X  M  W  \n",
    "  \n",
    "LD                      F  D  \n",
    "next1                      F  D  X  \n",
    "  \n",
    "#cycles = 7 * 98 + 8 = 694  \n",
    "\n",
    "e. \n",
    "         1  2  3  4  5  6  7  8  9  10 11 12 13 14 15 16 17 18 19  \n",
    "LD        F1 F2 D1 D2 X1 X2 M1 M2 W1 W2  \n",
    "DADDI        F1 F2 D1 D2  s  s  s X1 X2 M1 M2 W1 W2  \n",
    "SD            F1 F2 D1  s  s  s D2 X1 X2 M1 M2 W1 W2  \n",
    "DADDI            F1 F2  s  s  s D1 D2 X1 X2 M1 M2 W1 W2  \n",
    "DSUB'              F1  s  s  s F2 D1 D2  s X1 X2 M1 M2 W1 W2   \n",
    "BNEZ'                      F1 F2 D1  s D2 X1 X2 M1 M2 W1 W2  \n",
    "  \n",
    "LD                          F1 F2  s D1 D2 X1 X2 M1 M2 W1  \n",
    "next1                          F1  s F2 D1 D2 X1 X2 M1 M2  \n",
    "  \n",
    "#cycles = 9 * 98 + 10 = 892  \n",
    "\n",
    "f.  \n",
    "For 5-stage pipeline, clock cycle time = 0.8ns + 0.1ns = 0.9ns  \n",
    "For 10-state pipeline, clock cycle time = 0.8ns / 2 + 0.1ns = 0.5ns\n",
    "\n",
    "g.  \n",
    "CPI for 5-stage pipeline = 694 / (99 * 6) = 1.17  \n",
    "CPI for 10-stage pipeline = 892 / (99 * 6) = 1.50  \n",
    "Average instruction execute time for 5-stage pipeline =  1.17 * 0.9ns = 1.05ns  \n",
    "Average instruction execute time for 10-stage pipeline = 1.50 * 0.5ns = 0.75ns"
   ]
  },
  {
   "cell_type": "markdown",
   "metadata": {},
   "source": [
    "(40pt) <cite data-cite=\"3453296/HNM2HL9R\"></cite>, page C-85, problem C.6-a,b,c,d,e."
   ]
  },
  {
   "cell_type": "markdown",
   "metadata": {},
   "source": [
    "Solution:  \n",
    "a.  \n",
    "Rearranged order: F D M X W  \n",
    "\n",
    "b.  \n",
    "E -> M: ALU to LD/SD  \n",
    "M -> M: LD/SD to LD/SD  \n",
    "E -> E: ALU to ALU  \n",
    "  \n",
    "c.  \n",
    "ADDI  R1, R1, #1     F  D  M  X  W  \n",
    "LD   R2, 0(R1)        F  D  s  M  X  W  \n",
    "  \n",
    "ADDI  R1, R1, #1     F  D  M  X  W  \n",
    "SD   R2, 0(R1)        F  D  s  M  X  W  \n",
    "  \n",
    "d.  \n",
    "1.   \n",
    "Original: LD R1, 0(R2)\n",
    "       ADDI R1, R1, R3\n",
    "Modified: ADDI R1, R3, (R2)\n",
    "\n",
    "2.  \n",
    "Original: LD R1, 1(R2)\n",
    "Modified: ADDI R3, R2, #1\n",
    "       LD R1, 0(R3) \n",
    "  \n",
    "  \n",
    "e. \n",
    "1. Origial RISC is faster:\n",
    "For origial RISC:  \n",
    "ADDI  R1, R1, #1     F  D  X  M  W  \n",
    "LD   R2, 0(R1)        F  D  X  M  W  \n",
    "For register-memory RISC:  \n",
    "ADDI  R1, R1, #1     F  D  M  X  W  \n",
    "LD   R2, 0(R1)        F  D  s  M  X  W  \n",
    "  \n",
    "2. Register-memory RISC is faster:\n",
    "For origial RISC:  \n",
    "LD   R2, 0(R1)      F  D  X  M  W  \n",
    "ADDI  R1, R1, #1       F  D  s  X  M  W  \n",
    "\n",
    "For register-memory RISC:  \n",
    "LD   R2, 0(R1)      F  D  M  X  W \n",
    "ADDI  R1, R1, #1       F  D  M  X  W  \n"
   ]
  },
  {
   "cell_type": "markdown",
   "metadata": {},
   "source": [
    "<div class=\"cite2c-biblio\"></div>"
   ]
  }
 ],
 "metadata": {
  "cite2c": {
   "citations": {
    "3453296/HNM2HL9R": {
     "ISBN": "978-0-12-383872-8",
     "URL": "http://booksite.elsevier.com/9780123838728",
     "author": [
      {
       "family": "Patterson",
       "given": "David A."
      },
      {
       "family": "Hennessy",
       "given": "John L."
      }
     ],
     "edition": "5",
     "id": "3453296/HNM2HL9R",
     "issued": {
      "year": "2011"
     },
     "publisher": "Morgan Kaufmann Publishers Inc.",
     "title": "Computer Architecture: A Quantitative Approach",
     "type": "book"
    }
   }
  },
  "kernelspec": {
   "display_name": "Python 2",
   "language": "python",
   "name": "python2"
  },
  "language_info": {
   "codemirror_mode": {
    "name": "ipython",
    "version": 2
   },
   "file_extension": ".py",
   "mimetype": "text/x-python",
   "name": "python",
   "nbconvert_exporter": "python",
   "pygments_lexer": "ipython2",
   "version": "2.7.13"
  }
 },
 "nbformat": 4,
 "nbformat_minor": 2
}
